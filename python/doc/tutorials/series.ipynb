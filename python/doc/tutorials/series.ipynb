{
 "metadata": {
  "name": "",
  "signature": "sha256:6d0f8ea945b236db0c79937b4f1fd5ee114673bcec9e58717397031b255665fe"
 },
 "nbformat": 3,
 "nbformat_minor": 0,
 "worksheets": [
  {
   "cells": [
    {
     "cell_type": "markdown",
     "metadata": {},
     "source": [
      ".. _series_tutorial:\n",
      "\n",
      ".. currentmodule:: thunder"
     ]
    },
    {
     "cell_type": "heading",
     "level": 1,
     "metadata": {},
     "source": [
      "Series"
     ]
    },
    {
     "cell_type": "markdown",
     "metadata": {},
     "source": [
      "Description of the ``Series`` class and things you can do with it"
     ]
    }
   ],
   "metadata": {}
  }
 ]
}