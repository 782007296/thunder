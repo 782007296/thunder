{
 "metadata": {
  "name": "",
  "signature": "sha256:baf80892f353b75a326892a15e5d6b165a453cbd78f6fa08d9a5d9023344abf6"
 },
 "nbformat": 3,
 "nbformat_minor": 0,
 "worksheets": [
  {
   "cells": [
    {
     "cell_type": "raw",
     "metadata": {},
     "source": [
      ".. _matrices_tutorial:\n",
      "\n",
      ".. currentmodule:: thunder"
     ]
    },
    {
     "cell_type": "heading",
     "level": 1,
     "metadata": {},
     "source": [
      "Matrices"
     ]
    },
    {
     "cell_type": "markdown",
     "metadata": {},
     "source": [
      "Description of the ``RowMatrix`` class and things you can do with it"
     ]
    },
    {
     "cell_type": "code",
     "collapsed": false,
     "input": [
      "Loading a matrix\n",
      "----------------"
     ],
     "language": "python",
     "metadata": {},
     "outputs": []
    }
   ],
   "metadata": {}
  }
 ]
}